{
 "cells": [
  {
   "cell_type": "code",
   "execution_count": 1,
   "metadata": {},
   "outputs": [],
   "source": [
    "from requests_oauthlib import OAuth1Session\n",
    "import requests\n",
    "import json"
   ]
  },
  {
   "cell_type": "code",
   "execution_count": 2,
   "metadata": {},
   "outputs": [],
   "source": [
    "# Informamos as chaves criadas pelo Twitter\n",
    "CHAVE_CONSUMO =\t'Oe1bOe3sKJw012exE1KOqywIz'\n",
    "TOKEN_CONSUMO =\t'eSkNi7PcGNzCzDA5x3SIIQb4GdSQh52NS8Xd2KCmwjhi1VQXyD'\n",
    "\n",
    "TOKEN_ACESSO =\t'172973614-IOOCgpm4w1C45da1PlXBcRJxB9SQ9fnjsjwzIuUl'\n",
    "CHAVE_ACESSO =\t'xtESJ5giSo0034MEeqkj5JTr25ZOUOTTArirIWStaiYIg'"
   ]
  },
  {
   "cell_type": "code",
   "execution_count": 3,
   "metadata": {},
   "outputs": [],
   "source": [
    "session = OAuth1Session (CHAVE_CONSUMO, TOKEN_CONSUMO, TOKEN_ACESSO, CHAVE_ACESSO)"
   ]
  },
  {
   "cell_type": "code",
   "execution_count": 4,
   "metadata": {},
   "outputs": [],
   "source": [
    "# Vamos criar agora uma função para buscar os perfis\n",
    "def BuscaPerfil(perfil):\n",
    "    url = \"https://api.twitter.com/1.1/users/show.json?screen_name=\" + perfil\n",
    "    response = session.get(url)\n",
    "    return response.content"
   ]
  },
  {
   "cell_type": "code",
   "execution_count": 5,
   "metadata": {},
   "outputs": [],
   "source": [
    "# Vamos buscar um perfil\n",
    "respostaPerfil = BuscaPerfil('realDonaldTrump')\n",
    "# Captura o perfil do usuário\n",
    "perfil = json.loads(respostaPerfil)"
   ]
  },
  {
   "cell_type": "code",
   "execution_count": 6,
   "metadata": {},
   "outputs": [
    {
     "data": {
      "text/plain": [
       "{'id': 25073877,\n",
       " 'id_str': '25073877',\n",
       " 'name': 'Donald J. Trump',\n",
       " 'screen_name': 'realDonaldTrump',\n",
       " 'location': 'Washington, DC',\n",
       " 'profile_location': None,\n",
       " 'description': '45th President of the United States of America🇺🇸',\n",
       " 'url': 'https://t.co/OMxB0x7xC5',\n",
       " 'entities': {'url': {'urls': [{'url': 'https://t.co/OMxB0x7xC5',\n",
       "     'expanded_url': 'http://www.Instagram.com/realDonaldTrump',\n",
       "     'display_url': 'Instagram.com/realDonaldTrump',\n",
       "     'indices': [0, 23]}]},\n",
       "  'description': {'urls': []}},\n",
       " 'protected': False,\n",
       " 'followers_count': 60105391,\n",
       " 'friends_count': 46,\n",
       " 'listed_count': 102649,\n",
       " 'created_at': 'Wed Mar 18 13:46:38 +0000 2009',\n",
       " 'favourites_count': 7,\n",
       " 'utc_offset': None,\n",
       " 'time_zone': None,\n",
       " 'geo_enabled': True,\n",
       " 'verified': True,\n",
       " 'statuses_count': 41702,\n",
       " 'lang': 'en',\n",
       " 'status': {'created_at': 'Wed May 08 23:32:51 +0000 2019',\n",
       "  'id': 1126268756257382400,\n",
       "  'id_str': '1126268756257382400',\n",
       "  'text': 'Big crowds in Panama City Beach, Florida. See everyone in 30 minutes! @FoxNews @TuckerCarlson @SeanHannity https://t.co/57tngL1W2i',\n",
       "  'truncated': False,\n",
       "  'entities': {'hashtags': [],\n",
       "   'symbols': [],\n",
       "   'user_mentions': [{'screen_name': 'FoxNews',\n",
       "     'name': 'Fox News',\n",
       "     'id': 1367531,\n",
       "     'id_str': '1367531',\n",
       "     'indices': [70, 78]},\n",
       "    {'screen_name': 'TuckerCarlson',\n",
       "     'name': 'Tucker Carlson',\n",
       "     'id': 22703645,\n",
       "     'id_str': '22703645',\n",
       "     'indices': [79, 93]},\n",
       "    {'screen_name': 'seanhannity',\n",
       "     'name': 'Sean Hannity',\n",
       "     'id': 41634520,\n",
       "     'id_str': '41634520',\n",
       "     'indices': [94, 106]}],\n",
       "   'urls': [],\n",
       "   'media': [{'id': 1126268696933150720,\n",
       "     'id_str': '1126268696933150720',\n",
       "     'indices': [107, 130],\n",
       "     'media_url': 'http://pbs.twimg.com/media/D6FPaaJXsAAtBJ9.jpg',\n",
       "     'media_url_https': 'https://pbs.twimg.com/media/D6FPaaJXsAAtBJ9.jpg',\n",
       "     'url': 'https://t.co/57tngL1W2i',\n",
       "     'display_url': 'pic.twitter.com/57tngL1W2i',\n",
       "     'expanded_url': 'https://twitter.com/realDonaldTrump/status/1126268756257382400/photo/1',\n",
       "     'type': 'photo',\n",
       "     'sizes': {'small': {'w': 680, 'h': 244, 'resize': 'fit'},\n",
       "      'thumb': {'w': 150, 'h': 150, 'resize': 'crop'},\n",
       "      'large': {'w': 1024, 'h': 368, 'resize': 'fit'},\n",
       "      'medium': {'w': 1024, 'h': 368, 'resize': 'fit'}}}]},\n",
       "  'extended_entities': {'media': [{'id': 1126268696933150720,\n",
       "     'id_str': '1126268696933150720',\n",
       "     'indices': [107, 130],\n",
       "     'media_url': 'http://pbs.twimg.com/media/D6FPaaJXsAAtBJ9.jpg',\n",
       "     'media_url_https': 'https://pbs.twimg.com/media/D6FPaaJXsAAtBJ9.jpg',\n",
       "     'url': 'https://t.co/57tngL1W2i',\n",
       "     'display_url': 'pic.twitter.com/57tngL1W2i',\n",
       "     'expanded_url': 'https://twitter.com/realDonaldTrump/status/1126268756257382400/photo/1',\n",
       "     'type': 'photo',\n",
       "     'sizes': {'small': {'w': 680, 'h': 244, 'resize': 'fit'},\n",
       "      'thumb': {'w': 150, 'h': 150, 'resize': 'crop'},\n",
       "      'large': {'w': 1024, 'h': 368, 'resize': 'fit'},\n",
       "      'medium': {'w': 1024, 'h': 368, 'resize': 'fit'}}}]},\n",
       "  'source': '<a href=\"http://twitter.com/download/iphone\" rel=\"nofollow\">Twitter for iPhone</a>',\n",
       "  'in_reply_to_status_id': None,\n",
       "  'in_reply_to_status_id_str': None,\n",
       "  'in_reply_to_user_id': None,\n",
       "  'in_reply_to_user_id_str': None,\n",
       "  'in_reply_to_screen_name': None,\n",
       "  'geo': None,\n",
       "  'coordinates': None,\n",
       "  'place': None,\n",
       "  'contributors': None,\n",
       "  'is_quote_status': False,\n",
       "  'retweet_count': 2554,\n",
       "  'favorite_count': 8772,\n",
       "  'favorited': False,\n",
       "  'retweeted': False,\n",
       "  'possibly_sensitive': False,\n",
       "  'lang': 'en'},\n",
       " 'contributors_enabled': False,\n",
       " 'is_translator': False,\n",
       " 'is_translation_enabled': True,\n",
       " 'profile_background_color': '6D5C18',\n",
       " 'profile_background_image_url': 'http://abs.twimg.com/images/themes/theme1/bg.png',\n",
       " 'profile_background_image_url_https': 'https://abs.twimg.com/images/themes/theme1/bg.png',\n",
       " 'profile_background_tile': True,\n",
       " 'profile_image_url': 'http://pbs.twimg.com/profile_images/874276197357596672/kUuht00m_normal.jpg',\n",
       " 'profile_image_url_https': 'https://pbs.twimg.com/profile_images/874276197357596672/kUuht00m_normal.jpg',\n",
       " 'profile_banner_url': 'https://pbs.twimg.com/profile_banners/25073877/1557167376',\n",
       " 'profile_link_color': '1B95E0',\n",
       " 'profile_sidebar_border_color': 'BDDCAD',\n",
       " 'profile_sidebar_fill_color': 'C5CEC0',\n",
       " 'profile_text_color': '333333',\n",
       " 'profile_use_background_image': True,\n",
       " 'has_extended_profile': False,\n",
       " 'default_profile': False,\n",
       " 'default_profile_image': False,\n",
       " 'following': False,\n",
       " 'follow_request_sent': False,\n",
       " 'notifications': False,\n",
       " 'translator_type': 'regular'}"
      ]
     },
     "execution_count": 6,
     "metadata": {},
     "output_type": "execute_result"
    }
   ],
   "source": [
    "# Exibe o perfil\n",
    "perfil"
   ]
  },
  {
   "cell_type": "code",
   "execution_count": 7,
   "metadata": {},
   "outputs": [
    {
     "name": "stdout",
     "output_type": "stream",
     "text": [
      "Nome:Donald J. Trump\n",
      "Perfil: @realDonaldTrump\n",
      "Cidade: Washington, DC\n",
      "Descrição: 45th President of the United States of America🇺🇸\n",
      "Seguindo: 46\n",
      "Seguidores: 60105391\n"
     ]
    }
   ],
   "source": [
    "# Formatando a saída\n",
    "print (\"Nome:\" + perfil[\"name\"])\n",
    "print (\"Perfil: @\" + perfil[\"screen_name\"])\n",
    "print (\"Cidade: \" + perfil[\"location\"])\n",
    "print (\"Descrição: \" + perfil[\"description\"])\n",
    "print (\"Seguindo: \" + str(perfil[\"friends_count\"]))\n",
    "print(\"Seguidores: \" + str(perfil[\"followers_count\"]))"
   ]
  },
  {
   "cell_type": "code",
   "execution_count": null,
   "metadata": {},
   "outputs": [],
   "source": []
  }
 ],
 "metadata": {
  "kernelspec": {
   "display_name": "Python 3",
   "language": "python",
   "name": "python3"
  },
  "language_info": {
   "codemirror_mode": {
    "name": "ipython",
    "version": 3
   },
   "file_extension": ".py",
   "mimetype": "text/x-python",
   "name": "python",
   "nbconvert_exporter": "python",
   "pygments_lexer": "ipython3",
   "version": "3.7.6"
  }
 },
 "nbformat": 4,
 "nbformat_minor": 2
}
